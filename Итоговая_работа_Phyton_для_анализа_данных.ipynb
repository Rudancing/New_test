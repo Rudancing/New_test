{
  "nbformat": 4,
  "nbformat_minor": 0,
  "metadata": {
    "colab": {
      "provenance": [],
      "authorship_tag": "ABX9TyOMwAvw8nx0nC7Y/nSG60bY",
      "include_colab_link": true
    },
    "kernelspec": {
      "name": "python3",
      "display_name": "Python 3"
    },
    "language_info": {
      "name": "python"
    }
  },
  "cells": [
    {
      "cell_type": "markdown",
      "metadata": {
        "id": "view-in-github",
        "colab_type": "text"
      },
      "source": [
        "<a href=\"https://colab.research.google.com/github/Rudancing/New_test/blob/Statistic/%D0%98%D1%82%D0%BE%D0%B3%D0%BE%D0%B2%D0%B0%D1%8F_%D1%80%D0%B0%D0%B1%D0%BE%D1%82%D0%B0_Phyton_%D0%B4%D0%BB%D1%8F_%D0%B0%D0%BD%D0%B0%D0%BB%D0%B8%D0%B7%D0%B0_%D0%B4%D0%B0%D0%BD%D0%BD%D1%8B%D1%85.ipynb\" target=\"_parent\"><img src=\"https://colab.research.google.com/assets/colab-badge.svg\" alt=\"Open In Colab\"/></a>"
      ]
    },
    {
      "cell_type": "code",
      "execution_count": null,
      "metadata": {
        "id": "NgEVs0IlnuEp"
      },
      "outputs": [],
      "source": [
        "import pandas as pd\n",
        "import numpy as np\n",
        "import matplotlib.pyplot as plt\n",
        "import seaborn as sns\n",
        "from scipy import stats"
      ]
    },
    {
      "cell_type": "code",
      "source": [
        "# загружаем исходный файл\n",
        "df = pd.read_csv('HR.csv')\n",
        "# проверяем на пропуски\n",
        "(df.isna().mean()*100).round(2)"
      ],
      "metadata": {
        "id": "781XKPYmox4l"
      },
      "execution_count": null,
      "outputs": []
    },
    {
      "cell_type": "code",
      "source": [
        "# проверяем типы данных\n",
        "df.info()"
      ],
      "metadata": {
        "id": "X4P847-apwYj"
      },
      "execution_count": null,
      "outputs": []
    },
    {
      "cell_type": "code",
      "source": [
        "# рассчитываем основные статистики для переменных\n",
        "df.describe()"
      ],
      "metadata": {
        "id": "JrFNzEfsp1Kp"
      },
      "execution_count": null,
      "outputs": []
    },
    {
      "cell_type": "code",
      "source": [
        "#к основным показателям, рассчитанным выше добавляем моду\n",
        "mode_satisfaction_level = df['satisfaction_level'].mode()[0]\n",
        "mode_last_evaluation = df['last_evaluation'].mode()[0]\n",
        "mode_number_project = df['number_project'].mode()[0]\n",
        "mode_average_montly_hours = df['average_montly_hours'].mode()[0]\n",
        "mode_time_spend_company = df['time_spend_company'].mode()[0]\n",
        "data_mode = {'satisfaction_level': mode_satisfaction_level, 'last_evaluation': mode_last_evaluation,\n",
        "             'number_project': mode_number_project, 'average_montly_hours': mode_average_montly_hours,\n",
        "             'time_spend_company': mode_time_spend_company }\n",
        "df_mode = pd.DataFrame(data_mode, index = ['mode'])\n",
        "df_mode"
      ],
      "metadata": {
        "id": "GRiECvq2qWby"
      },
      "execution_count": null,
      "outputs": []
    },
    {
      "cell_type": "code",
      "source": [
        "# строим корреляционную матрицу\n",
        "round(df.corr(),3)"
      ],
      "metadata": {
        "id": "u7PNnRSDwe1W"
      },
      "execution_count": null,
      "outputs": []
    },
    {
      "cell_type": "code",
      "source": [
        "# визуализируем при помощи тепловой карты\n",
        "sns.set(rc={'figure.figsize':(8,6)})\n",
        "sns.heatmap(round(df.corr(),3) , annot = True, cmap = 'magma')"
      ],
      "metadata": {
        "id": "Td41QWJwwuAv"
      },
      "execution_count": null,
      "outputs": []
    },
    {
      "cell_type": "code",
      "source": [
        "# определяем, что\n",
        "# две наиболее скоррелированные переменные:\n",
        "# Среднее количество часов на рабочем месте в месяц и Количество проектов, выполненных за время работы (0,42)\n",
        "# две наименее скоррелированные переменные:\n",
        "# Происходили ли несчастные случаи на рабочем месте с сотрудником и Стаж работы в компании в годах (0,002)л"
      ],
      "metadata": {
        "id": "lF5A3GPI2D7_"
      },
      "execution_count": null,
      "outputs": []
    },
    {
      "cell_type": "code",
      "source": [
        "# считаем количество сотрудников по отделам\n",
        "df_employees_by_dept = df.groupby(['department'])['salary'].count().reset_index()\n",
        "df_employees_by_dept.rename(columns ={'salary': '№ of employees'}, inplace = True )\n",
        "df_employees_by_dept"
      ],
      "metadata": {
        "id": "c9kXmaZb2cEI"
      },
      "execution_count": null,
      "outputs": []
    },
    {
      "cell_type": "code",
      "source": [
        "# визуализируем распределение сотрудников по уровню зп\n",
        "df_salary_bar = df.groupby(['salary'])['department'].count()\n",
        "df_salary_bar.plot(kind = 'bar', title = 'Распределение сотрудников по зарплатам', xlabel = 'уровень зарплаты', ylabel = 'кол-во сотрудников')\n",
        "for i, val in enumerate(df_salary_bar.values):\n",
        "    plt.text(i, val, int(val), horizontalalignment = 'center', verticalalignment = 'bottom', fontdict = {'size': 10})\n",
        "    print(i, val)"
      ],
      "metadata": {
        "id": "dWdxZu68_jnm"
      },
      "execution_count": null,
      "outputs": []
    },
    {
      "cell_type": "code",
      "source": [
        "# Для визуализации распределения сотрудников по уровню зп по департаментам выбрал столбчатую диаграмму с накоплением\n",
        "df_salary_by_dept_bar = df.groupby(['department','salary'])['left'].count().reset_index()\n",
        "df_pivot_salary = pd.pivot_table(df_salary_by_dept_bar.reset_index(), index='department', columns='salary', values='left')\n",
        "df_pivot_salary.plot(kind = 'bar', title = 'Распределение сотрудников по зарплатам по отделам', xlabel = 'департамент', ylabel = 'кол-во сотрудников', stacked = True)\n",
        "for i, val in enumerate(df_pivot_salary.values):\n",
        "    pos = 0\n",
        "    for el in val:\n",
        "      pos = pos + el\n",
        "      plt.text(i, pos, '{:.1%}'.format(el/sum(val)), horizontalalignment = 'center', verticalalignment = 'top', fontdict = {'size': 10})"
      ],
      "metadata": {
        "id": "mmTv34n6Cpmz"
      },
      "execution_count": null,
      "outputs": []
    },
    {
      "cell_type": "code",
      "source": [
        "# Выдвигаем гипотезу, что сотрудники с высоким окладом проводят на работе больше времени, чем сотрудники с низким окладом.\n",
        "# В этом случае нашей нулевой гипотезой будет\n",
        "# H0 - нет зависмости размера оклада от времени проведенного на работе\n",
        "# H1 - зависимость размера оклада от времени проведенного на работе существует"
      ],
      "metadata": {
        "id": "mIls_G_L7h_9"
      },
      "execution_count": null,
      "outputs": []
    },
    {
      "cell_type": "code",
      "source": [
        "# Для начала формируем два датасэта для сотрудников и низким окладом и для сотрудников и высоким окладом.\n",
        "df_low_salary = df[['average_montly_hours', 'salary']][df['salary'] == 'low']\n",
        "df_high_salary =df[['average_montly_hours', 'salary']][df['salary'] == 'high']\n",
        "# принимаем уровень значимости а = 0.05\n",
        "alpha = 0.05"
      ],
      "metadata": {
        "id": "nbAlrl27cbOk"
      },
      "execution_count": null,
      "outputs": []
    },
    {
      "cell_type": "code",
      "source": [
        "# Смотрим на распределенеи обеих выборок и выбросы\n",
        "df_low_salary.plot(kind = 'hist', title = 'Распределение ср. кол-ва часов на работе в мес (low salary)', bins = 60, density = True)\n",
        "df_high_salary.plot(kind = 'hist', title = 'Распределение ср. кол-ва часов на работе в мес (high salary)', bins = 60, density = True)\n",
        "df_low_salary.plot(kind = 'box', grid = True)\n",
        "df_high_salary.plot(kind = 'box', grid = True)"
      ],
      "metadata": {
        "id": "-RjUYSB1dalu"
      },
      "execution_count": null,
      "outputs": []
    },
    {
      "cell_type": "code",
      "source": [
        "# распределение в обеих выборках нормальное, выбросы отсутствуют, применяем тест Стьюдента\n",
        "stat, p = stats.ttest_ind(df_low_salary['average_montly_hours'], df_high_salary['average_montly_hours'])\n",
        "print('pvalue = ', p)\n",
        "\n",
        "if (p < alpha):\n",
        "  print ('p-value меньше нашего уровня значимости - принимаем альтернативную гипотезу H1/')\n",
        "else:\n",
        "  print ('p-value больше нашего уровня значимости - нулевую гипотезу H0 не отклоняем.')"
      ],
      "metadata": {
        "id": "hRde8PYedupg"
      },
      "execution_count": null,
      "outputs": []
    },
    {
      "cell_type": "code",
      "source": [
        "# В результате проверки гипотезы, мы не можем утверждать, что сотрудники с высоким окладом\n",
        "# проводят на работе больше времени, чем сотрудники с низким окладом. Гипотеза не подтверждена."
      ],
      "metadata": {
        "id": "y1AIpAG_ti89"
      },
      "execution_count": null,
      "outputs": []
    },
    {
      "cell_type": "code",
      "source": [
        "# Делимм датасет на два: уволившиеся и неуволившиеся сотрудники\n",
        "df_left = df[df['left'] == 1]\n",
        "df_stayed = df[df['left'] == 0]\n",
        "# считаем долю сотрудников с повышением за последние 5 лет\n",
        "promotion_share_left = df_left['promotion_last_5years'].sum() / df_left['promotion_last_5years'].count()\n",
        "promotion_share_stayed = df_stayed['promotion_last_5years'].sum() / df_stayed['promotion_last_5years'].count()\n",
        "# считаем среднюю удовлетворенность и кол-во проектов для обеих выборок\n",
        "satisfaction_left = df_left['satisfaction_level'].mean()\n",
        "satisfaction_stayed = df_stayed['satisfaction_level'].mean()\n",
        "projects_left = df_left['number_project'].mean()\n",
        "projects_stayed = df_stayed['number_project'].mean()\n",
        "print('\\033[1m''Доля сотрудников с повышением за последние 5 лет составляет:''\\033[0m''\\nдля уволившихся сотрудников: {:.1%}'.format(promotion_share_stayed), '\\nдля оставшихся сотрудников: {:.1%}'.format(promotion_share_left))\n",
        "print('\\033[1m''Средняя удовлетворенность:''\\033[0m''\\nдля уволившихся сотрудников: {:.1%}'.format(satisfaction_left), '\\nдля оставшихся сотрудников: {:.1%}'.format(satisfaction_stayed))\n",
        "print('\\033[1m''Среднее кол-во проектов:''\\033[0m''\\nдля уволившихся сотрудников:', round(projects_left,0), '\\nдля оставшихся сотрудников:', round(projects_stayed,0))"
      ],
      "metadata": {
        "id": "GKLVLOeS-p3V"
      },
      "execution_count": null,
      "outputs": []
    },
    {
      "cell_type": "code",
      "source": [
        "from sklearn.linear_model import LinearRegression\n",
        "from sklearn.model_selection import train_test_split\n",
        "from sklearn import metrics"
      ],
      "metadata": {
        "id": "lbXqd0tep9YU"
      },
      "execution_count": null,
      "outputs": []
    },
    {
      "cell_type": "code",
      "source": [
        "# разделяем выборку на тестовую и обучающую и строим модель регрессии\n",
        "x = df[['satisfaction_level', 'last_evaluation', 'number_project',\n",
        "        'average_montly_hours', 'time_spend_company', 'Work_accident', 'promotion_last_5years']]\n",
        "y = df['left']\n",
        "\n",
        "x_train, x_test, y_train, y_test = train_test_split(x, y, random_state=42, test_size = 0.3)"
      ],
      "metadata": {
        "id": "94FVEQgb7OI1"
      },
      "execution_count": null,
      "outputs": []
    },
    {
      "cell_type": "code",
      "source": [
        "lr = LinearRegression()"
      ],
      "metadata": {
        "id": "4ytET7HM8mHz"
      },
      "execution_count": null,
      "outputs": []
    },
    {
      "cell_type": "code",
      "source": [
        "lr.fit(x_train, y_train)"
      ],
      "metadata": {
        "colab": {
          "base_uri": "https://localhost:8080/",
          "height": 74
        },
        "id": "suTpFHf88mig",
        "outputId": "8ea7bdc8-38cd-4929-9edd-1d9113920267"
      },
      "execution_count": null,
      "outputs": [
        {
          "output_type": "execute_result",
          "data": {
            "text/plain": [
              "LinearRegression()"
            ],
            "text/html": [
              "<style>#sk-container-id-1 {color: black;background-color: white;}#sk-container-id-1 pre{padding: 0;}#sk-container-id-1 div.sk-toggleable {background-color: white;}#sk-container-id-1 label.sk-toggleable__label {cursor: pointer;display: block;width: 100%;margin-bottom: 0;padding: 0.3em;box-sizing: border-box;text-align: center;}#sk-container-id-1 label.sk-toggleable__label-arrow:before {content: \"▸\";float: left;margin-right: 0.25em;color: #696969;}#sk-container-id-1 label.sk-toggleable__label-arrow:hover:before {color: black;}#sk-container-id-1 div.sk-estimator:hover label.sk-toggleable__label-arrow:before {color: black;}#sk-container-id-1 div.sk-toggleable__content {max-height: 0;max-width: 0;overflow: hidden;text-align: left;background-color: #f0f8ff;}#sk-container-id-1 div.sk-toggleable__content pre {margin: 0.2em;color: black;border-radius: 0.25em;background-color: #f0f8ff;}#sk-container-id-1 input.sk-toggleable__control:checked~div.sk-toggleable__content {max-height: 200px;max-width: 100%;overflow: auto;}#sk-container-id-1 input.sk-toggleable__control:checked~label.sk-toggleable__label-arrow:before {content: \"▾\";}#sk-container-id-1 div.sk-estimator input.sk-toggleable__control:checked~label.sk-toggleable__label {background-color: #d4ebff;}#sk-container-id-1 div.sk-label input.sk-toggleable__control:checked~label.sk-toggleable__label {background-color: #d4ebff;}#sk-container-id-1 input.sk-hidden--visually {border: 0;clip: rect(1px 1px 1px 1px);clip: rect(1px, 1px, 1px, 1px);height: 1px;margin: -1px;overflow: hidden;padding: 0;position: absolute;width: 1px;}#sk-container-id-1 div.sk-estimator {font-family: monospace;background-color: #f0f8ff;border: 1px dotted black;border-radius: 0.25em;box-sizing: border-box;margin-bottom: 0.5em;}#sk-container-id-1 div.sk-estimator:hover {background-color: #d4ebff;}#sk-container-id-1 div.sk-parallel-item::after {content: \"\";width: 100%;border-bottom: 1px solid gray;flex-grow: 1;}#sk-container-id-1 div.sk-label:hover label.sk-toggleable__label {background-color: #d4ebff;}#sk-container-id-1 div.sk-serial::before {content: \"\";position: absolute;border-left: 1px solid gray;box-sizing: border-box;top: 0;bottom: 0;left: 50%;z-index: 0;}#sk-container-id-1 div.sk-serial {display: flex;flex-direction: column;align-items: center;background-color: white;padding-right: 0.2em;padding-left: 0.2em;position: relative;}#sk-container-id-1 div.sk-item {position: relative;z-index: 1;}#sk-container-id-1 div.sk-parallel {display: flex;align-items: stretch;justify-content: center;background-color: white;position: relative;}#sk-container-id-1 div.sk-item::before, #sk-container-id-1 div.sk-parallel-item::before {content: \"\";position: absolute;border-left: 1px solid gray;box-sizing: border-box;top: 0;bottom: 0;left: 50%;z-index: -1;}#sk-container-id-1 div.sk-parallel-item {display: flex;flex-direction: column;z-index: 1;position: relative;background-color: white;}#sk-container-id-1 div.sk-parallel-item:first-child::after {align-self: flex-end;width: 50%;}#sk-container-id-1 div.sk-parallel-item:last-child::after {align-self: flex-start;width: 50%;}#sk-container-id-1 div.sk-parallel-item:only-child::after {width: 0;}#sk-container-id-1 div.sk-dashed-wrapped {border: 1px dashed gray;margin: 0 0.4em 0.5em 0.4em;box-sizing: border-box;padding-bottom: 0.4em;background-color: white;}#sk-container-id-1 div.sk-label label {font-family: monospace;font-weight: bold;display: inline-block;line-height: 1.2em;}#sk-container-id-1 div.sk-label-container {text-align: center;}#sk-container-id-1 div.sk-container {/* jupyter's `normalize.less` sets `[hidden] { display: none; }` but bootstrap.min.css set `[hidden] { display: none !important; }` so we also need the `!important` here to be able to override the default hidden behavior on the sphinx rendered scikit-learn.org. See: https://github.com/scikit-learn/scikit-learn/issues/21755 */display: inline-block !important;position: relative;}#sk-container-id-1 div.sk-text-repr-fallback {display: none;}</style><div id=\"sk-container-id-1\" class=\"sk-top-container\"><div class=\"sk-text-repr-fallback\"><pre>LinearRegression()</pre><b>In a Jupyter environment, please rerun this cell to show the HTML representation or trust the notebook. <br />On GitHub, the HTML representation is unable to render, please try loading this page with nbviewer.org.</b></div><div class=\"sk-container\" hidden><div class=\"sk-item\"><div class=\"sk-estimator sk-toggleable\"><input class=\"sk-toggleable__control sk-hidden--visually\" id=\"sk-estimator-id-1\" type=\"checkbox\" checked><label for=\"sk-estimator-id-1\" class=\"sk-toggleable__label sk-toggleable__label-arrow\">LinearRegression</label><div class=\"sk-toggleable__content\"><pre>LinearRegression()</pre></div></div></div></div></div>"
            ]
          },
          "metadata": {},
          "execution_count": 10
        }
      ]
    },
    {
      "cell_type": "code",
      "source": [
        "lr.coef_"
      ],
      "metadata": {
        "id": "S0I8CAPC8umD"
      },
      "execution_count": null,
      "outputs": []
    },
    {
      "cell_type": "code",
      "source": [
        "lr.intercept_"
      ],
      "metadata": {
        "id": "ACa-l-DN83WX"
      },
      "execution_count": null,
      "outputs": []
    },
    {
      "cell_type": "code",
      "source": [
        "y_pred = lr.predict(x_test)"
      ],
      "metadata": {
        "id": "KbOTPtuj9VAJ"
      },
      "execution_count": null,
      "outputs": []
    },
    {
      "cell_type": "code",
      "source": [
        "# посмотрим основные метрики\n",
        "print(f'R2: {metrics.r2_score(y_test, y_pred)}')\n",
        "print(f'MAE: {metrics.mean_absolute_error(y_test, y_pred)}')\n",
        "print(f'MSE: {metrics.mean_squared_error(y_test, y_pred)}')\n",
        "print(f'RMSE: {np.sqrt(metrics.mean_squared_error(y_test, y_pred))}')"
      ],
      "metadata": {
        "id": "Fl47GEMu90Ml"
      },
      "execution_count": null,
      "outputs": []
    },
    {
      "cell_type": "code",
      "source": [
        "sns.histplot((y_test - y_pred), kde = True, bins = 20)"
      ],
      "metadata": {
        "id": "HtSorYiOBQ7q"
      },
      "execution_count": null,
      "outputs": []
    },
    {
      "cell_type": "code",
      "source": [
        "# так как значения y_test содержат только 0 и 1, то попробуем модифицировать полученные значения y_pred, таким образом, чтобы в них также были только 0 и 1.\n",
        "# а после еще раз рассчитаем метрики\n",
        "y_pred_mod = [int(round(el)) for el in y_pred]\n",
        "print(f'R2: {metrics.r2_score(y_test, y_pred_mod)}')\n",
        "print(f'MAE: {metrics.mean_absolute_error(y_test, y_pred_mod)}')\n",
        "print(f'MSE: {metrics.mean_squared_error(y_test, y_pred_mod)}')\n",
        "print(f'RMSE: {np.sqrt(metrics.mean_squared_error(y_test, y_pred_mod))}')"
      ],
      "metadata": {
        "id": "sr5LU9S6-ktP"
      },
      "execution_count": null,
      "outputs": []
    },
    {
      "cell_type": "code",
      "source": [
        "sns.histplot((y_test - y_pred_mod), kde = True, bins = 20)"
      ],
      "metadata": {
        "id": "h__cZu0gAP9M"
      },
      "execution_count": null,
      "outputs": []
    },
    {
      "cell_type": "code",
      "source": [
        "# после модификации качество модели повысилось, но тем не менее\n",
        "# на основании полученных метрик, в частности коэффициента детерминации можно судить о неудовлетворительном качестве построенной модели."
      ],
      "metadata": {
        "id": "OV5KhjcnGYz0"
      },
      "execution_count": null,
      "outputs": []
    }
  ]
}